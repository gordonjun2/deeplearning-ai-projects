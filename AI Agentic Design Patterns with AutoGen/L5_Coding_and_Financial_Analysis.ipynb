{
 "cells": [
  {
   "cell_type": "markdown",
   "id": "eacbb70c",
   "metadata": {},
   "source": [
    "# Lesson 5: Coding and Financial Analysis"
   ]
  },
  {
   "cell_type": "markdown",
   "id": "babbc472",
   "metadata": {},
   "source": [
    "## Setup"
   ]
  },
  {
   "cell_type": "code",
   "execution_count": 12,
   "id": "b5613ba9-d387-4b7d-9670-ec2b6e4353be",
   "metadata": {
    "height": 30
   },
   "outputs": [],
   "source": [
    "llm_config = {\"model\": \"gpt-4-turbo\"}"
   ]
  },
  {
   "cell_type": "markdown",
   "id": "e4e8fd85",
   "metadata": {},
   "source": [
    "## Define a code executor"
   ]
  },
  {
   "cell_type": "code",
   "execution_count": 13,
   "id": "fb90a672-4318-47de-a061-384e68dd75c9",
   "metadata": {
    "height": 30
   },
   "outputs": [],
   "source": [
    "from autogen.coding import LocalCommandLineCodeExecutor"
   ]
  },
  {
   "cell_type": "code",
   "execution_count": 14,
   "id": "b5cafee7-a0ac-4583-8201-5e19eb603138",
   "metadata": {
    "height": 81
   },
   "outputs": [],
   "source": [
    "executor = LocalCommandLineCodeExecutor(\n",
    "    timeout=60,\n",
    "    work_dir=\"coding\",\n",
    ")"
   ]
  },
  {
   "cell_type": "markdown",
   "id": "3b62a1a0",
   "metadata": {},
   "source": [
    "## Create agents "
   ]
  },
  {
   "cell_type": "code",
   "execution_count": 15,
   "id": "e6d9b3d6-9915-4fea-a853-512dfb77c4a5",
   "metadata": {
    "height": 30
   },
   "outputs": [],
   "source": [
    "from autogen import ConversableAgent, AssistantAgent"
   ]
  },
  {
   "cell_type": "markdown",
   "id": "b741b947",
   "metadata": {},
   "source": [
    "### 1. Agent with code executor configuration"
   ]
  },
  {
   "cell_type": "code",
   "execution_count": 16,
   "id": "57d286e5-b7b7-405a-b1d7-212c0cc84497",
   "metadata": {
    "height": 149
   },
   "outputs": [],
   "source": [
    "code_executor_agent = ConversableAgent(\n",
    "    name=\"code_executor_agent\",\n",
    "    llm_config=False,\n",
    "    code_execution_config={\"executor\": executor},\n",
    "    human_input_mode=\"ALWAYS\",\n",
    "    default_auto_reply=\n",
    "    \"Please continue. If everything is done, reply 'TERMINATE'.\",\n",
    ")"
   ]
  },
  {
   "cell_type": "markdown",
   "id": "c1eb1094",
   "metadata": {},
   "source": [
    "### 2. Agent with code writing capability"
   ]
  },
  {
   "cell_type": "code",
   "execution_count": 17,
   "id": "99c38c33-d335-48cd-96eb-cafe9ac70142",
   "metadata": {
    "height": 115
   },
   "outputs": [],
   "source": [
    "code_writer_agent = AssistantAgent(\n",
    "    name=\"code_writer_agent\",\n",
    "    llm_config=llm_config,\n",
    "    code_execution_config=False,\n",
    "    human_input_mode=\"NEVER\",\n",
    ")"
   ]
  },
  {
   "cell_type": "code",
   "execution_count": 18,
   "id": "0fb1a62f-8dd2-4636-9103-b26ea27a29bd",
   "metadata": {
    "height": 30
   },
   "outputs": [],
   "source": [
    "code_writer_agent_system_message = code_writer_agent.system_message"
   ]
  },
  {
   "cell_type": "code",
   "execution_count": 19,
   "id": "7c8e9a04-55fb-4124-a9d0-3431274476d2",
   "metadata": {
    "height": 30
   },
   "outputs": [
    {
     "name": "stdout",
     "output_type": "stream",
     "text": [
      "You are a helpful AI assistant.\n",
      "Solve tasks using your coding and language skills.\n",
      "In the following cases, suggest python code (in a python coding block) or shell script (in a sh coding block) for the user to execute.\n",
      "    1. When you need to collect info, use the code to output the info you need, for example, browse or search the web, download/read a file, print the content of a webpage or a file, get the current date/time, check the operating system. After sufficient info is printed and the task is ready to be solved based on your language skill, you can solve the task by yourself.\n",
      "    2. When you need to perform some task with code, use the code to perform the task and output the result. Finish the task smartly.\n",
      "Solve the task step by step if you need to. If a plan is not provided, explain your plan first. Be clear which step uses code, and which step uses your language skill.\n",
      "When using code, you must indicate the script type in the code block. The user cannot provide any other feedback or perform any other action beyond executing the code you suggest. The user can't modify your code. So do not suggest incomplete code which requires users to modify. Don't use a code block if it's not intended to be executed by the user.\n",
      "If you want the user to save the code in a file before executing it, put # filename: <filename> inside the code block as the first line. Don't include multiple code blocks in one response. Do not ask users to copy and paste the result. Instead, use 'print' function for the output when relevant. Check the execution result returned by the user.\n",
      "If the result indicates there is an error, fix the error and output the code again. Suggest the full code instead of partial code or code changes. If the error can't be fixed or if the task is not solved even after the code is executed successfully, analyze the problem, revisit your assumption, collect additional info you need, and think of a different approach to try.\n",
      "When you find an answer, verify the answer carefully. Include verifiable evidence in your response if possible.\n",
      "Reply \"TERMINATE\" in the end when everything is done.\n",
      "    \n"
     ]
    }
   ],
   "source": [
    "print(code_writer_agent_system_message)"
   ]
  },
  {
   "cell_type": "markdown",
   "id": "f487b75a",
   "metadata": {},
   "source": [
    "## The task!\n",
    "\n",
    "Ask the two agents to collaborate on a stock analysis task."
   ]
  },
  {
   "cell_type": "code",
   "execution_count": 20,
   "id": "9cce0ba4-9fea-4d36-b4a0-a1e51fcd09a6",
   "metadata": {
    "height": 132
   },
   "outputs": [],
   "source": [
    "import datetime\n",
    "\n",
    "today = datetime.datetime.now().date()\n",
    "message = f\"Today is {today}. \"\\\n",
    "\"Create a plot showing stock gain YTD for NVDA and TLSA. \"\\\n",
    "\"Make sure the code is in markdown code block and save the figure\"\\\n",
    "\" to a file ytd_stock_gains.png.\"\"\""
   ]
  },
  {
   "cell_type": "markdown",
   "id": "4d02df6c",
   "metadata": {},
   "source": [
    "<p style=\"background-color:#ECECEC; padding:15px; \"> <b>Note:</b> In this lesson, you will use GPT 4 for better results. Please note that the lesson has a quota limit. If you want to explore the code in this lesson further, we recommend trying it locally with your own API key."
   ]
  },
  {
   "cell_type": "markdown",
   "id": "77fc5f1b",
   "metadata": {},
   "source": [
    "**Note**: You might see a different set of outputs than those shown in the video. The agents collaborate to generate the code needed for your task, and they might produce code with errors in the process. However, they will ultimately provide a correct code in the end."
   ]
  },
  {
   "cell_type": "code",
   "execution_count": 21,
   "id": "230bb9c0-9c80-498f-a05f-96cef11ddb4e",
   "metadata": {
    "height": 81
   },
   "outputs": [
    {
     "name": "stdout",
     "output_type": "stream",
     "text": [
      "\u001b[33mcode_executor_agent\u001b[0m (to code_writer_agent):\n",
      "\n",
      "Today is 2025-06-28. Create a plot showing stock gain YTD for NVDA and TLSA. Make sure the code is in markdown code block and save the figure to a file ytd_stock_gains.png.\n",
      "\n",
      "--------------------------------------------------------------------------------\n",
      "\u001b[33mcode_writer_agent\u001b[0m (to code_executor_agent):\n",
      "\n",
      "To create a plot showing year-to-date (YTD) stock gains for NVIDIA (NVDA) and Tesla (TSLA), we can make use of Python libraries such as `pandas` for data handling and `matplotlib` or `plotly` for plotting the graph. The data can be fetched from financial APIs like Yahoo Finance using the `yfinance` package.\n",
      "\n",
      "Here's the plan:\n",
      "1. We will install necessary packages, namely `yfinance`, `pandas`, and `matplotlib`.\n",
      "2. Fetch YTD stock data for NVDA and TSLA starting from the beginning of 2025 until today (2025-06-28).\n",
      "3. Calculate daily gains from the stock price data.\n",
      "4. Plot these gains on a cumulative plot.\n",
      "5. Save the plot to a file named 'ytd_stock_gains.png'.\n",
      "\n",
      "Below is the code for the whole process. Execute this Python script to generate the desired plot:\n",
      "\n",
      "```python\n",
      "# filename: stock_gains_plot.py\n",
      "\n",
      "import yfinance as yf\n",
      "import pandas as pd\n",
      "import matplotlib.pyplot as plt\n",
      "\n",
      "# Define the start of the year and today's date\n",
      "start_date = '2025-01-01'\n",
      "end_date = '2025-06-28'\n",
      "\n",
      "# Fetch YTD stock data for NVDA and TSLA\n",
      "nvda_data = yf.download('NVDA', start=start_date, end=end_date)\n",
      "tsla_data = yf.download('TSLA', start=start_date, end=end_date)\n",
      "\n",
      "# Calculate daily percentage change\n",
      "nvda_daily_gains = nvda_data['Close'].pct_change().fillna(0)\n",
      "tsla_daily_gains = tsla_data['Close'].pct_change().fillna(0)\n",
      "\n",
      "# Calculate cumulative gains\n",
      "nvda_cumulative_gains = (1 + nvda_daily_gains).cumprod() - 1\n",
      "tsla_cumulative_gains = (1 + tsla_daily_gains).cumprod() - 1\n",
      "\n",
      "# Plotting the cumulative gains\n",
      "plt.figure(figsize=(10, 5))\n",
      "plt.plot(nvda_cumulative_gains, label='NVDA YTD Gain')\n",
      "plt.plot(tsla_cumulative_gains, label='TSLA YTD Gain')\n",
      "plt.title(\"YTD Stock Gains for NVDA and TSLA as of 2025-06-28\")\n",
      "plt.xlabel(\"Date\")\n",
      "plt.ylabel(\"Cumulative Gains\")\n",
      "plt.legend()\n",
      "plt.grid(True)\n",
      "\n",
      "# Save the plot to a file\n",
      "plt.savefig('ytd_stock_gains.png')\n",
      "plt.close()  # Close the plotting window\n",
      "\n",
      "print(\"The plot has been saved as 'ytd_stock_gains.png'.\")\n",
      "```\n",
      "\n",
      "Save this script in a file named `stock_gains_plot.py` and run it using Python. Ensure that the necessary libraries are installed on your python environment, and this script will fetch the data, generate the plot, and save it.\n",
      "\n",
      "--------------------------------------------------------------------------------\n",
      "Provide feedback to code_writer_agent. Press enter to skip and use auto-reply, or type 'exit' to end the conversation: \n",
      "\u001b[31m\n",
      ">>>>>>>> NO HUMAN INPUT RECEIVED.\u001b[0m\n",
      "\u001b[31m\n",
      ">>>>>>>> USING AUTO REPLY...\u001b[0m\n",
      "\u001b[31m\n",
      ">>>>>>>> EXECUTING CODE BLOCK (inferred language is python)...\u001b[0m\n",
      "\u001b[33mcode_executor_agent\u001b[0m (to code_writer_agent):\n",
      "\n",
      "exitcode: 0 (execution succeeded)\n",
      "Code output: Failed to get ticker 'NVDA' reason: Expecting value: line 1 column 1 (char 0)\n",
      "\n",
      "[*********************100%%**********************]  1 of 1 completed\n",
      "\n",
      "1 Failed download:\n",
      "['NVDA']: Exception('%ticker%: No timezone found, symbol may be delisted')\n",
      "Failed to get ticker 'TSLA' reason: Expecting value: line 1 column 1 (char 0)\n",
      "\n",
      "[*********************100%%**********************]  1 of 1 completed\n",
      "\n",
      "1 Failed download:\n",
      "['TSLA']: Exception('%ticker%: No timezone found, symbol may be delisted')\n",
      "The plot has been saved as 'ytd_stock_gains.png'.\n",
      "\n",
      "\n",
      "--------------------------------------------------------------------------------\n",
      "\u001b[33mcode_writer_agent\u001b[0m (to code_executor_agent):\n",
      "\n",
      "It appears that the code encountered an issue with downloading the stock data for both NVDA and TSLA, likely because these symbols might have been delisted or there was a network or API error at the time of request. This can happen if there is an issue with the data source or the stock symbols are inaccurately provided.\n",
      "\n",
      "However, since the plot has been saved (though it would be empty or incorrect), there might be a misunderstanding in the execution notice. It's probable that the plot file does not contain useful data due to the failure in fetching the stock prices.\n",
      "\n",
      "Here's an alternative plan:\n",
      "1. Double-check the ticker symbols and fix if necessary.\n",
      "2. Retry fetching data, and ensure the network/API is accessible.\n",
      "\n",
      "Let's correct and retry the data retrieval using perhaps a different data source or ensuring correct ticker symbols. I'll adjust the initial plan slightly and provide code to try again. Here's the revised script:\n",
      "\n",
      "```python\n",
      "# filename: stock_gains_plot.py\n",
      "\n",
      "import yfinance as yf\n",
      "import pandas as pd\n",
      "import matplotlib.pyplot as plt\n",
      "\n",
      "# Correct stock ticker symbols\n",
      "proper_nvda_ticker = 'NVDA'\n",
      "proper_tsla_ticker = 'TSLA'\n",
      "\n",
      "# Define the start of the year and today's date\n",
      "start_date = '2025-01-01'\n",
      "end_date = '2025-06-28'\n",
      "\n",
      "# Fetch YTD stock data for NVDA and TSLA\n",
      "nvda_data = yf.download(proper_nvda_ticker, start=start_date, end=end_date)\n",
      "tsla_data = yf.download(proper_tsla_ticker, start=start_date, end=end_date)\n",
      "\n",
      "# Calculate daily percentage change\n",
      "nvda_daily_gains = nvda_data['Close'].pct_change().fillna(0)\n",
      "tsla_daily_gains = tsla_data['Close'].pct_change().fillna(0)\n",
      "\n",
      "# Calculate cumulative gains\n",
      "nvda_cumulative_gains = (1 + nvda_daily_gains).cumprod() - 1\n",
      "tsla_cumulative_gains = (1 + tsla_daily_gains).cumprod() - 1\n",
      "\n",
      "# Plotting the cumulative gains\n",
      "plt.figure(figsize=(10, 5))\n",
      "plt.plot(nvda_cumulative_gains, label='NVDA YTD Gain')\n",
      "plt.plot(tsla_cumulative_gains, label='TSLA YTD Gain')\n",
      "plt.title(\"YTD Stock Gains for NVDA and TSLA as of 2025-06-28\")\n",
      "plt.xlabel(\"Date\")\n",
      "plt.ylabel(\"Cumulative Gains\")\n",
      "plt.legend()\n",
      "plt.grid(True)\n",
      "\n",
      "# Save the plot to a file\n",
      "plt.savefig('ytd_stock_gains.png')\n",
      "plt.close()  # Close the plotting window\n",
      "\n",
      "print(\"The plot has been saved and updated as 'ytd_stock_gains.png'.\")\n",
      "```\n",
      "\n",
      "Ensure you have a stable network connection and save the code to `stock_gains_plot.py` again, and rerun it. Let's see if it fetches the data correctly this time.\n",
      "\n",
      "--------------------------------------------------------------------------------\n",
      "Provide feedback to code_writer_agent. Press enter to skip and use auto-reply, or type 'exit' to end the conversation: No timezone found, symbol may be delisted\n",
      "\u001b[33mcode_executor_agent\u001b[0m (to code_writer_agent):\n",
      "\n",
      "No timezone found, symbol may be delisted\n",
      "\n",
      "--------------------------------------------------------------------------------\n",
      "\u001b[33mcode_writer_agent\u001b[0m (to code_executor_agent):\n",
      "\n",
      "It seems we're consistently running into issues with obtaining the stock data using `yfinance`, possibly due to the unpredictability of future data availability or other technical limitations.\n",
      "\n",
      "Since retrieving direct stock data for NVDA and TSLA via Yahoo Finance has been problematic, let's try an alternative approach:\n",
      "\n",
      "1. **Check data availability**: Before proceeding with another script, we should first check if the tickers NVDA and TSLA are available and not delisted around the provided date using another data source or by confirming directly with a reliable financial site.\n",
      "2. **Alternative Sources**: If Yahoo’s API continues to fail, other services like Alpha Vantage or Quandl can be considered, but would require API keys.\n",
      "\n",
      "Given these challenges, an immediate solution with `yfinance` may not be possible without a reliable data source.\n",
      "\n",
      "Let's perform a manual check on the stock data availability for NVDA and TSLA (you can do this via a financial news website or another stock market app). If both stocks are confirmed to still be listed and available at your target dates, you might consider:\n",
      "\n",
      "- Using a different API provider that might allow fetching historical data for these stocks.\n",
      "- Adjusting the date range (if applicable) or ensuring that trading activity was present for those dates.\n",
      "\n",
      "For now, it seems we need to halt the automated approach until we can confirm the data availability or find another way to access the desired stock price information. This inability to access the data likely stems from limitations set by the data provider or inaccuracies in future data prediction.\n",
      "\n",
      "If you confirm the availability and I can assist further, we might need to revisit the tools or resources being used for this analysis.\n"
     ]
    },
    {
     "name": "stdout",
     "output_type": "stream",
     "text": [
      "\n",
      "--------------------------------------------------------------------------------\n",
      "Provide feedback to code_writer_agent. Press enter to skip and use auto-reply, or type 'exit' to end the conversation: \n",
      "\u001b[31m\n",
      ">>>>>>>> NO HUMAN INPUT RECEIVED.\u001b[0m\n",
      "\u001b[31m\n",
      ">>>>>>>> USING AUTO REPLY...\u001b[0m\n",
      "\u001b[33mcode_executor_agent\u001b[0m (to code_writer_agent):\n",
      "\n",
      "Please continue. If everything is done, reply 'TERMINATE'.\n",
      "\n",
      "--------------------------------------------------------------------------------\n",
      "\u001b[33mcode_writer_agent\u001b[0m (to code_executor_agent):\n",
      "\n",
      "TERMINATE\n",
      "\n",
      "--------------------------------------------------------------------------------\n",
      "Provide feedback to code_writer_agent. Press enter to skip and use auto-reply, or type 'exit' to end the conversation: exit\n"
     ]
    }
   ],
   "source": [
    "chat_result = code_executor_agent.initiate_chat(\n",
    "    code_writer_agent,\n",
    "    message=message,\n",
    ")"
   ]
  },
  {
   "cell_type": "markdown",
   "id": "9b0cbbdd",
   "metadata": {},
   "source": [
    "## Let's see the plot!\n",
    "\n",
    "**Note**: \n",
    "* Your plot might differ from the one shown in the video because the LLM's freestyle code generation could choose a different plot type, such as a bar plot. \n",
    "* You can re-run the previous cell and check the generated code. If it produces a bar plot, remember you can directly specify your preference by asking for a specific plot type instead of a bar plot."
   ]
  },
  {
   "cell_type": "code",
   "execution_count": 22,
   "id": "26804313-566f-42fb-9243-4e0c147f770b",
   "metadata": {
    "height": 81
   },
   "outputs": [
    {
     "data": {
      "image/png": "[encoded data removed]",
      "text/plain": [
       "<IPython.core.display.Image object>"
      ]
     },
     "execution_count": 22,
     "metadata": {},
     "output_type": "execute_result"
    }
   ],
   "source": [
    "import os\n",
    "from IPython.display import Image\n",
    "\n",
    "Image(os.path.join(\"coding\", \"ytd_stock_gains.png\"))"
   ]
  },
  {
   "cell_type": "markdown",
   "id": "ccf49d7e",
   "metadata": {},
   "source": [
    "**Note**: The agent will automatically save the code in a .py file and the plot in a .png file. To access and check the files generated by the agents, go to the `File` menu and select `Open....` Then, open the folder named `coding` to find all the generated files."
   ]
  },
  {
   "cell_type": "markdown",
   "id": "5aded8dc",
   "metadata": {},
   "source": [
    "## User-Defined Functions\n",
    "\n",
    "Instead of asking LLM to generate the code for downloading stock data \n",
    "and plotting charts each time, you can define functions for these two tasks and have LLM call these functions in the code."
   ]
  },
  {
   "cell_type": "code",
   "execution_count": 23,
   "id": "bca089a7-d85a-40ad-b33d-6a5318076c6e",
   "metadata": {
    "height": 387
   },
   "outputs": [],
   "source": [
    "def get_stock_prices(stock_symbols, start_date, end_date):\n",
    "    \"\"\"Get the stock prices for the given stock symbols between\n",
    "    the start and end dates.\n",
    "\n",
    "    Args:\n",
    "        stock_symbols (str or list): The stock symbols to get the\n",
    "        prices for.\n",
    "        start_date (str): The start date in the format \n",
    "        'YYYY-MM-DD'.\n",
    "        end_date (str): The end date in the format 'YYYY-MM-DD'.\n",
    "    \n",
    "    Returns:\n",
    "        pandas.DataFrame: The stock prices for the given stock\n",
    "        symbols indexed by date, with one column per stock \n",
    "        symbol.\n",
    "    \"\"\"\n",
    "    import yfinance\n",
    "\n",
    "    stock_data = yfinance.download(\n",
    "        stock_symbols, start=start_date, end=end_date\n",
    "    )\n",
    "    return stock_data.get(\"Close\")"
   ]
  },
  {
   "cell_type": "code",
   "execution_count": 24,
   "id": "5dff50a6-39ae-46a4-9b9c-e98c1550472b",
   "metadata": {
    "height": 336
   },
   "outputs": [],
   "source": [
    "def plot_stock_prices(stock_prices, filename):\n",
    "    \"\"\"Plot the stock prices for the given stock symbols.\n",
    "\n",
    "    Args:\n",
    "        stock_prices (pandas.DataFrame): The stock prices for the \n",
    "        given stock symbols.\n",
    "    \"\"\"\n",
    "    import matplotlib.pyplot as plt\n",
    "\n",
    "    plt.figure(figsize=(10, 5))\n",
    "    for column in stock_prices.columns:\n",
    "        plt.plot(\n",
    "            stock_prices.index, stock_prices[column], label=column\n",
    "                )\n",
    "    plt.title(\"Stock Prices\")\n",
    "    plt.xlabel(\"Date\")\n",
    "    plt.ylabel(\"Price\")\n",
    "    plt.grid(True)\n",
    "    plt.savefig(filename)"
   ]
  },
  {
   "cell_type": "markdown",
   "id": "63ff7175",
   "metadata": {},
   "source": [
    "### Create a new executor with the user-defined functions"
   ]
  },
  {
   "cell_type": "code",
   "execution_count": 25,
   "id": "452d315f-681d-4418-9cd0-653cc8d6a668",
   "metadata": {
    "height": 98
   },
   "outputs": [],
   "source": [
    "executor = LocalCommandLineCodeExecutor(\n",
    "    timeout=60,\n",
    "    work_dir=\"coding\",\n",
    "    functions=[get_stock_prices, plot_stock_prices],\n",
    ")"
   ]
  },
  {
   "cell_type": "code",
   "execution_count": 26,
   "id": "b95b30ad-1e6d-4d88-9a6c-2b0f11b625e4",
   "metadata": {
    "height": 47
   },
   "outputs": [
    {
     "name": "stdout",
     "output_type": "stream",
     "text": [
      "You are a helpful AI assistant.\n",
      "Solve tasks using your coding and language skills.\n",
      "In the following cases, suggest python code (in a python coding block) or shell script (in a sh coding block) for the user to execute.\n",
      "    1. When you need to collect info, use the code to output the info you need, for example, browse or search the web, download/read a file, print the content of a webpage or a file, get the current date/time, check the operating system. After sufficient info is printed and the task is ready to be solved based on your language skill, you can solve the task by yourself.\n",
      "    2. When you need to perform some task with code, use the code to perform the task and output the result. Finish the task smartly.\n",
      "Solve the task step by step if you need to. If a plan is not provided, explain your plan first. Be clear which step uses code, and which step uses your language skill.\n",
      "When using code, you must indicate the script type in the code block. The user cannot provide any other feedback or perform any other action beyond executing the code you suggest. The user can't modify your code. So do not suggest incomplete code which requires users to modify. Don't use a code block if it's not intended to be executed by the user.\n",
      "If you want the user to save the code in a file before executing it, put # filename: <filename> inside the code block as the first line. Don't include multiple code blocks in one response. Do not ask users to copy and paste the result. Instead, use 'print' function for the output when relevant. Check the execution result returned by the user.\n",
      "If the result indicates there is an error, fix the error and output the code again. Suggest the full code instead of partial code or code changes. If the error can't be fixed or if the task is not solved even after the code is executed successfully, analyze the problem, revisit your assumption, collect additional info you need, and think of a different approach to try.\n",
      "When you find an answer, verify the answer carefully. Include verifiable evidence in your response if possible.\n",
      "Reply \"TERMINATE\" in the end when everything is done.\n",
      "    You have access to the following user defined functions. They can be accessed from the module called `functions` by their function names.\n",
      "\n",
      "For example, if there was a function called `foo` you could import it by writing `from functions import foo`\n",
      "\n",
      "def get_stock_prices(stock_symbols, start_date, end_date):\n",
      "    \"\"\"Get the stock prices for the given stock symbols between\n",
      "        the start and end dates.\n",
      "\n",
      "        Args:\n",
      "            stock_symbols (str or list): The stock symbols to get the\n",
      "            prices for.\n",
      "            start_date (str): The start date in the format \n",
      "            'YYYY-MM-DD'.\n",
      "            end_date (str): The end date in the format 'YYYY-MM-DD'.\n",
      "\n",
      "        Returns:\n",
      "            pandas.DataFrame: The stock prices for the given stock\n",
      "            symbols indexed by date, with one column per stock \n",
      "            symbol.\n",
      "    \"\"\"\n",
      "    ...\n",
      "\n",
      "def plot_stock_prices(stock_prices, filename):\n",
      "    \"\"\"Plot the stock prices for the given stock symbols.\n",
      "\n",
      "        Args:\n",
      "            stock_prices (pandas.DataFrame): The stock prices for the \n",
      "            given stock symbols.\n",
      "    \"\"\"\n",
      "    ...\n"
     ]
    }
   ],
   "source": [
    "code_writer_agent_system_message += executor.format_functions_for_prompt()\n",
    "print(code_writer_agent_system_message)"
   ]
  },
  {
   "cell_type": "markdown",
   "id": "64d3cc77",
   "metadata": {},
   "source": [
    "### Let's update the agents with the new system message"
   ]
  },
  {
   "cell_type": "code",
   "execution_count": 27,
   "id": "615c02b0-0175-442e-bed2-52bb35b8945c",
   "metadata": {
    "height": 132
   },
   "outputs": [],
   "source": [
    "code_writer_agent = ConversableAgent(\n",
    "    name=\"code_writer_agent\",\n",
    "    system_message=code_writer_agent_system_message,\n",
    "    llm_config=llm_config,\n",
    "    code_execution_config=False,\n",
    "    human_input_mode=\"NEVER\",\n",
    ")"
   ]
  },
  {
   "cell_type": "code",
   "execution_count": 28,
   "id": "a9a725b0-9bb6-47e3-85df-27d9aadc9290",
   "metadata": {
    "height": 149
   },
   "outputs": [],
   "source": [
    "code_executor_agent = ConversableAgent(\n",
    "    name=\"code_executor_agent\",\n",
    "    llm_config=False,\n",
    "    code_execution_config={\"executor\": executor},\n",
    "    human_input_mode=\"ALWAYS\",\n",
    "    default_auto_reply=\n",
    "    \"Please continue. If everything is done, reply 'TERMINATE'.\",\n",
    ")"
   ]
  },
  {
   "cell_type": "markdown",
   "id": "e8d7b57c",
   "metadata": {},
   "source": [
    "### Start the same task again!"
   ]
  },
  {
   "cell_type": "code",
   "execution_count": 31,
   "id": "8895bb51-bcdd-4f63-a49f-858fc25c474f",
   "metadata": {
    "height": 132
   },
   "outputs": [
    {
     "name": "stdout",
     "output_type": "stream",
     "text": [
      "\u001b[33mcode_executor_agent\u001b[0m (to code_writer_agent):\n",
      "\n",
      "Today is 2025-06-28.Download the stock prices YTD for NVDA and TSLA and createa plot. Make sure the code is in markdown code block and save the figure to a file stock_prices_YTD_plot.png.\n",
      "\n",
      "--------------------------------------------------------------------------------\n",
      "\u001b[33mcode_writer_agent\u001b[0m (to code_executor_agent):\n",
      "\n",
      "First, I'll provide you with the Python code to download the stock prices year-to-date (YTD) for \"NVDA\" and \"TSLA\" up until today's date (2025-06-28). Once we've retrieved the data, we'll plot it and save the plot to a PNG file named \"stock_prices_YTD_plot.png\".\n",
      "\n",
      "```python\n",
      "# filename: get_and_plot_stock_data.py\n",
      "\n",
      "from functions import get_stock_prices, plot_stock_prices\n",
      "import datetime\n",
      "\n",
      "# Determining the start date of the current year\n",
      "today_date = datetime.datetime(2025, 6, 28)\n",
      "start_of_year = datetime.datetime(today_date.year, 1, 1)\n",
      "\n",
      "# Get stock prices for NVDA and TSLA for the YTD period\n",
      "stock_prices = get_stock_prices(['NVDA', 'TSLA'], start_of_year.strftime('%Y-%m-%d'), today_date.strftime('%Y-%m-%d'))\n",
      "\n",
      "# Plotting the stock prices and saving to a file\n",
      "plot_stock_prices(stock_prices, 'stock_prices_YTD_plot.png')\n",
      "```\n",
      "\n",
      "Please save this script in a file, then run it. This script will obtain the stock prices for Nvidia and Tesla from the beginning of 2025 up to June 28, 2025, plot these prices, and save the plot as a PNG file. Ensure all necessary modules and the function script are correctly set up in your Python environment.\n",
      "\n",
      "--------------------------------------------------------------------------------\n",
      "Provide feedback to code_writer_agent. Press enter to skip and use auto-reply, or type 'exit' to end the conversation: \n",
      "\u001b[31m\n",
      ">>>>>>>> NO HUMAN INPUT RECEIVED.\u001b[0m\n",
      "\u001b[31m\n",
      ">>>>>>>> USING AUTO REPLY...\u001b[0m\n",
      "\u001b[31m\n",
      ">>>>>>>> EXECUTING CODE BLOCK (inferred language is python)...\u001b[0m\n",
      "\u001b[33mcode_executor_agent\u001b[0m (to code_writer_agent):\n",
      "\n",
      "exitcode: 0 (execution succeeded)\n",
      "Code output: Failed to get ticker 'TSLA' reason: Expecting value: line 1 column 1 (char 0)\n",
      "Failed to get ticker 'NVDA' reason: Expecting value: line 1 column 1 (char 0)\n",
      "\n",
      "[*********************100%%**********************]  1 of 2 completed\n",
      "\n",
      "2 Failed downloads:\n",
      "['TSLA', 'NVDA']: Exception('%ticker%: No timezone found, symbol may be delisted')\n",
      "\n",
      "[*********************100%%**********************]  1 of 2 completed\n",
      "\n",
      "--------------------------------------------------------------------------------\n",
      "\u001b[33mcode_writer_agent\u001b[0m (to code_executor_agent):\n",
      "\n",
      "It appears that there was an issue obtaining the stock prices for both TSLA (Tesla, Inc.) and NVDA (Nvidia Corporation), suggesting that the symbols may not have been retrieved correctly. As indicated, this could be due to an error in the service or API used to gather this data, or possibly a temporary issue with the data source.\n",
      "\n",
      "Let's update the code to provide a more robust mechanism for this failure and ensure that we are accessing the correct data source properly. I will add a check and some error handling to see if this provides a more detailed explanation or helps in resolving the issue.\n",
      "\n",
      "Please execute this updated script:\n",
      "\n",
      "```python\n",
      "# filename: get_and_plot_stock_data_updated.py\n",
      "\n",
      "from functions import get_stock_prices, plot_stock_prices\n",
      "import datetime\n",
      "import pandas as pd\n",
      "\n",
      "# Determining the start date of the current year\n",
      "today_date = datetime.datetime(2025, 6, 28)\n",
      "start_of_year = datetime.datetime(today_date.year, 1, 1)\n",
      "\n",
      "try:\n",
      "    # Get stock prices for NVDA and TSLA for the YTD period\n",
      "    stock_prices = get_stock_prices(['NVDA', 'TSLA'], start_of_year.strftime('%Y-%m-%d'), today_date.strftime('%Y-%m-%d'))\n",
      "    \n",
      "    # Check if the DataFrame is not empty\n",
      "    if stock_prices.empty:\n",
      "        print(\"Warning: No data was downloaded. Please verify the stock symbols and data source availability.\")\n",
      "    else:\n",
      "        # Plotting the stock prices and saving to a file\n",
      "        plot_stock_prices(stock_prices, 'stock_prices_YTD_plot.png')\n",
      "        print(\"Plotting completed and saved as 'stock_prices_YTD_plot.png'.\")\n",
      "        \n",
      "except Exception as e:\n",
      "    print(f\"An error occurred while trying to fetch or plot stock data: {str(e)}\")\n",
      "```\n",
      "\n",
      "This script now contains error handling, which should provide more information if the issue persists or at least ensure only valid data gets plotted. Please save and run this script instead.\n",
      "\n",
      "--------------------------------------------------------------------------------\n",
      "Provide feedback to code_writer_agent. Press enter to skip and use auto-reply, or type 'exit' to end the conversation: \n",
      "\u001b[31m\n",
      ">>>>>>>> NO HUMAN INPUT RECEIVED.\u001b[0m\n",
      "\u001b[31m\n",
      ">>>>>>>> USING AUTO REPLY...\u001b[0m\n",
      "\u001b[31m\n",
      ">>>>>>>> EXECUTING CODE BLOCK (inferred language is python)...\u001b[0m\n",
      "\u001b[33mcode_executor_agent\u001b[0m (to code_writer_agent):\n",
      "\n",
      "exitcode: 0 (execution succeeded)\n",
      "Code output: Failed to get ticker 'NVDA' reason: Expecting value: line 1 column 1 (char 0)\n",
      "\n",
      "[                       0%%                      ]Failed to get ticker 'TSLA' reason: Expecting value: line 1 column 1 (char 0)\n",
      "\n",
      "[*********************100%%**********************]  2 of 2 completed\n",
      "\n",
      "2 Failed downloads:\n",
      "['NVDA', 'TSLA']: Exception('%ticker%: No timezone found, symbol may be delisted')\n",
      "Warning: No data was downloaded. Please verify the stock symbols and data source availability.\n",
      "\n",
      "\n",
      "--------------------------------------------------------------------------------\n",
      "\u001b[33mcode_writer_agent\u001b[0m (to code_executor_agent):\n",
      "\n",
      "It appears that the stock price retrieval continues to fail due to issues either with the data source, incorrect API responses, or potentially misconfigured symbol information, as indicated by the errors suggesting that the symbols may not be available.\n",
      "\n",
      "It could be beneficial to utilize an alternative source or method for fetching the stock price data if possible. However, given the constraints of this environment, I will recommend verifying or checking the configurations and setup previously used to interact with your current data source. Please ensure that:\n",
      "\n",
      "1. The API or data source for fetching stock market prices is correctly configured and operational.\n",
      "2. The stock symbols (\"NVDA\" for Nvidia and \"TSLA\" for Tesla) are valid, currently listed, and tradable in the stock market, without any suspension or delisting affecting their data availability.\n",
      "\n",
      "Unfortunately, I am unable to rectify an error with external data sources or their configurations directly within this environment, as those require administrative access to your data source or network details. Please review these configurations or consult with a technical administrator who has access to the settings or the API provider for further assistance. Once the data source issue is addressed, retry running the provided scripts to fetch and plot the stock data.\n",
      "\n",
      "Thank you for your understanding, and please ensure all settings are checked thoroughly before another attempt.\n",
      "\n",
      "--------------------------------------------------------------------------------\n",
      "Provide feedback to code_writer_agent. Press enter to skip and use auto-reply, or type 'exit' to end the conversation: \n",
      "\u001b[31m\n",
      ">>>>>>>> NO HUMAN INPUT RECEIVED.\u001b[0m\n",
      "\u001b[31m\n",
      ">>>>>>>> USING AUTO REPLY...\u001b[0m\n",
      "\u001b[33mcode_executor_agent\u001b[0m (to code_writer_agent):\n",
      "\n",
      "Please continue. If everything is done, reply 'TERMINATE'.\n",
      "\n",
      "--------------------------------------------------------------------------------\n",
      "\u001b[33mcode_writer_agent\u001b[0m (to code_executor_agent):\n",
      "\n",
      "TERMINATE\n",
      "\n",
      "--------------------------------------------------------------------------------\n",
      "Provide feedback to code_writer_agent. Press enter to skip and use auto-reply, or type 'exit' to end the conversation: \n",
      "\u001b[31m\n",
      ">>>>>>>> NO HUMAN INPUT RECEIVED.\u001b[0m\n"
     ]
    }
   ],
   "source": [
    "chat_result = code_executor_agent.initiate_chat(\n",
    "    code_writer_agent,\n",
    "    message=f\"Today is {today}.\"\n",
    "    \"Download the stock prices YTD for NVDA and TSLA and create\"\n",
    "    \"a plot. Make sure the code is in markdown code block and \"\n",
    "    \"save the figure to a file stock_prices_YTD_plot.png.\",\n",
    ")"
   ]
  },
  {
   "cell_type": "markdown",
   "id": "3c4bb718",
   "metadata": {},
   "source": [
    "### Plot the results"
   ]
  },
  {
   "cell_type": "code",
   "execution_count": 32,
   "id": "a930c007-dd56-4da6-b542-902312ed27dd",
   "metadata": {
    "height": 30
   },
   "outputs": [
    {
     "data": {
      "image/png": "[encoded data removed]",
      "text/plain": [
       "<IPython.core.display.Image object>"
      ]
     },
     "execution_count": 32,
     "metadata": {},
     "output_type": "execute_result"
    }
   ],
   "source": [
    "Image(os.path.join(\"coding\", \"stock_prices_YTD_plot.png\"))"
   ]
  },
  {
   "cell_type": "markdown",
   "id": "c65bac5e",
   "metadata": {},
   "source": [
    "**Note**: The agent will automatically save the code in a .py file and the plot in a .png file. To access and check the files generated by the agents, go to the `File` menu and select `Open....` Then, open the folder named `coding` to find all the generated files."
   ]
  }
 ],
 "metadata": {
  "kernelspec": {
   "display_name": "Python 3 (ipykernel)",
   "language": "python",
   "name": "python3"
  },
  "language_info": {
   "codemirror_mode": {
    "name": "ipython",
    "version": 3
   },
   "file_extension": ".py",
   "mimetype": "text/x-python",
   "name": "python",
   "nbconvert_exporter": "python",
   "pygments_lexer": "ipython3",
   "version": "3.11.9"
  }
 },
 "nbformat": 4,
 "nbformat_minor": 5
}
